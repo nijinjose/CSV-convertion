{
 "cells": [
  {
   "cell_type": "code",
   "execution_count": 1,
   "id": "ba9908e4",
   "metadata": {
    "ExecuteTime": {
     "end_time": "2021-09-17T13:37:41.452755Z",
     "start_time": "2021-09-17T13:37:41.429833Z"
    }
   },
   "outputs": [],
   "source": [
    "import csv,json"
   ]
  },
  {
   "cell_type": "code",
   "execution_count": 2,
   "id": "8a58cbc2",
   "metadata": {
    "ExecuteTime": {
     "end_time": "2021-09-17T13:37:42.217648Z",
     "start_time": "2021-09-17T13:37:42.116509Z"
    }
   },
   "outputs": [],
   "source": [
    "# defining the function to convert CSV file to JSON file  \n",
    "\n",
    "def csv_to_json(csvFilePath, jsonFilePath):               \n",
    "    jsonArray = []   # create a dictionary\n",
    "      \n",
    "    #read csv file\n",
    "    with open(csvFilePath, encoding='utf-8') as csvf: \n",
    "        #load csv file data using csv library's dictionary reader\n",
    "        csvReader = csv.DictReader(csvf) \n",
    "\n",
    "        #convert each csv row into python dict\n",
    "        for row in csvReader: \n",
    "            #add this python dict to json array\n",
    "            jsonArray.append(row)\n",
    "  \n",
    "    #convert python jsonArray to JSON String and write to file\n",
    "    with open(jsonFilePath, 'w', encoding='utf-8') as jsonf: \n",
    "        jsonString = json.dumps(jsonArray, indent=4)\n",
    "        jsonf.write(jsonString)\n",
    "          \n",
    "csvFilePath = r'XXXX.csv'\n",
    "jsonFilePath = r'data.json'\n",
    "csv_to_json(csvFilePath, jsonFilePath)"
   ]
  },
  {
   "cell_type": "code",
   "execution_count": 6,
   "id": "cb202a0b",
   "metadata": {
    "ExecuteTime": {
     "end_time": "2021-09-17T13:39:30.137477Z",
     "start_time": "2021-09-17T13:39:30.122123Z"
    }
   },
   "outputs": [],
   "source": [
    "# Nd json \n",
    " #Reference : https://newbedev.com/converting-json-into-newline-delimited-json-in-python"
   ]
  },
  {
   "cell_type": "code",
   "execution_count": 4,
   "id": "e9dfef78",
   "metadata": {
    "ExecuteTime": {
     "end_time": "2021-09-17T13:37:43.646489Z",
     "start_time": "2021-09-17T13:37:43.600400Z"
    }
   },
   "outputs": [],
   "source": [
    "with open(\"data.json\", \"r\") as read_file:\n",
    "    data = json.load(read_file)\n",
    "result = [json.dumps(record) for record in data]\n",
    "with open('nd-json1.json', 'w') as obj:\n",
    "    for i in result:\n",
    "        obj.write(i+'\\n')"
   ]
  },
  {
   "cell_type": "code",
   "execution_count": null,
   "id": "fc49cc8a",
   "metadata": {},
   "outputs": [],
   "source": []
  }
 ],
 "metadata": {
  "kernelspec": {
   "display_name": "Python 3 (ipykernel)",
   "language": "python",
   "name": "python3"
  },
  "language_info": {
   "codemirror_mode": {
    "name": "ipython",
    "version": 3
   },
   "file_extension": ".py",
   "mimetype": "text/x-python",
   "name": "python",
   "nbconvert_exporter": "python",
   "pygments_lexer": "ipython3",
   "version": "3.8.11"
  },
  "varInspector": {
   "cols": {
    "lenName": 16,
    "lenType": 16,
    "lenVar": 40
   },
   "kernels_config": {
    "python": {
     "delete_cmd_postfix": "",
     "delete_cmd_prefix": "del ",
     "library": "var_list.py",
     "varRefreshCmd": "print(var_dic_list())"
    },
    "r": {
     "delete_cmd_postfix": ") ",
     "delete_cmd_prefix": "rm(",
     "library": "var_list.r",
     "varRefreshCmd": "cat(var_dic_list()) "
    }
   },
   "types_to_exclude": [
    "module",
    "function",
    "builtin_function_or_method",
    "instance",
    "_Feature"
   ],
   "window_display": false
  }
 },
 "nbformat": 4,
 "nbformat_minor": 5
}
